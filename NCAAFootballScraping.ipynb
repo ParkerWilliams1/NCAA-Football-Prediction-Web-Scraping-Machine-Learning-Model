{
 "cells": [
  {
   "cell_type": "code",
   "execution_count": 2,
   "id": "e4aa4e8d-a40a-4eeb-9c55-ba7c6a520c15",
   "metadata": {},
   "outputs": [],
   "source": [
    "import requests"
   ]
  },
  {
   "cell_type": "code",
   "execution_count": 3,
   "id": "eddbcec7-8143-4905-961e-e8a5a1057e75",
   "metadata": {},
   "outputs": [],
   "source": [
    "standings_url = \"https://www.sports-reference.com/cfb/schools\""
   ]
  },
  {
   "cell_type": "code",
   "execution_count": 4,
   "id": "6632d58c-0eb2-43cb-8a1b-1c946fef7dd3",
   "metadata": {},
   "outputs": [],
   "source": [
    "data = requests.get(standings_url)"
   ]
  },
  {
   "cell_type": "code",
   "execution_count": 5,
   "id": "2ad5ec0f-235c-4cf0-a0c4-790589cdc3fd",
   "metadata": {},
   "outputs": [],
   "source": [
    "from bs4 import BeautifulSoup"
   ]
  },
  {
   "cell_type": "code",
   "execution_count": 6,
   "id": "76c1ec31-00d7-4d53-b034-ffa00ccc1652",
   "metadata": {},
   "outputs": [],
   "source": [
    "soup = BeautifulSoup(data.text)"
   ]
  },
  {
   "cell_type": "code",
   "execution_count": 7,
   "id": "2375b657-2adc-421d-875e-d0bd045c48e2",
   "metadata": {},
   "outputs": [],
   "source": [
    "standings_table = soup.select('table.stats_table')[0]"
   ]
  },
  {
   "cell_type": "code",
   "execution_count": 8,
   "id": "d4351b97-b384-43bb-b091-593a15cbddad",
   "metadata": {},
   "outputs": [],
   "source": [
    "links = standings_table.find_all('a')"
   ]
  },
  {
   "cell_type": "code",
   "execution_count": 9,
   "id": "1f6c2e88-e2b5-4455-8a0a-919c8fa0c70a",
   "metadata": {},
   "outputs": [],
   "source": [
    "links = [l.get(\"href\") for l in links]"
   ]
  },
  {
   "cell_type": "code",
   "execution_count": 10,
   "id": "abc25ecc-a04b-4c6b-b9f4-6a86210b54b3",
   "metadata": {
    "scrolled": true
   },
   "outputs": [],
   "source": [
    "links = [l for l in links if 'schools' in l]"
   ]
  },
  {
   "cell_type": "code",
   "execution_count": 11,
   "id": "be533fc3-1b21-430f-8f63-f59f2470f6c4",
   "metadata": {},
   "outputs": [],
   "source": [
    "team_urls = [f\"https://sports-reference.com{l}\" for l in links]"
   ]
  },
  {
   "cell_type": "code",
   "execution_count": 12,
   "id": "0174fd87-25b3-4f10-a30d-ad32369226fd",
   "metadata": {},
   "outputs": [],
   "source": [
    "schedule = ['2021-schedule.html', '2022-schedule.html', '2023-schedule.html']\n",
    "\n",
    "gamelog = ['2021/gamelog/', '2022/gamelog/', '2023/gamelog/']"
   ]
  },
  {
   "cell_type": "code",
   "execution_count": 13,
   "id": "2754572b-cfab-442e-9de4-b868593fad13",
   "metadata": {},
   "outputs": [],
   "source": [
    "schedule_urls = [i + schedule[0] for i in team_urls]"
   ]
  },
  {
   "cell_type": "code",
   "execution_count": 14,
   "id": "0d465a39-6023-4e38-a4cd-0b474b317d9c",
   "metadata": {},
   "outputs": [],
   "source": [
    "schedule_url = schedule_urls"
   ]
  },
  {
   "cell_type": "code",
   "execution_count": 15,
   "id": "6769f329-1eb7-4290-abd3-28bf6668a994",
   "metadata": {},
   "outputs": [
    {
     "data": {
      "text/plain": [
       "301"
      ]
     },
     "execution_count": 15,
     "metadata": {},
     "output_type": "execute_result"
    }
   ],
   "source": [
    "len(schedule_url)"
   ]
  },
  {
   "cell_type": "code",
   "execution_count": 16,
   "id": "b4fea58a-2557-4e23-a1f2-51bff2f75b2b",
   "metadata": {},
   "outputs": [],
   "source": [
    "data = requests.get(schedule_url[0])"
   ]
  },
  {
   "cell_type": "code",
   "execution_count": 17,
   "id": "dda06d54-a32c-4ec9-95b0-08adfa906419",
   "metadata": {},
   "outputs": [
    {
     "name": "stderr",
     "output_type": "stream",
     "text": [
      "C:\\Users\\parke\\AppData\\Local\\Temp\\ipykernel_9112\\2224478326.py:3: FutureWarning: Passing literal html to 'read_html' is deprecated and will be removed in a future version. To read from a literal string, wrap it in a 'StringIO' object.\n",
      "  games = pd.read_html(data.text, match=\"Games\")\n"
     ]
    }
   ],
   "source": [
    "import pandas as pd\n",
    "\n",
    "games = pd.read_html(data.text, match=\"Games\")"
   ]
  },
  {
   "cell_type": "code",
   "execution_count": 18,
   "id": "d9a99044-2ef5-4cc9-a910-c728de899307",
   "metadata": {},
   "outputs": [
    {
     "data": {
      "text/html": [
       "<div>\n",
       "<style scoped>\n",
       "    .dataframe tbody tr th:only-of-type {\n",
       "        vertical-align: middle;\n",
       "    }\n",
       "\n",
       "    .dataframe tbody tr th {\n",
       "        vertical-align: top;\n",
       "    }\n",
       "\n",
       "    .dataframe thead tr th {\n",
       "        text-align: left;\n",
       "    }\n",
       "</style>\n",
       "<table border=\"1\" class=\"dataframe\">\n",
       "  <thead>\n",
       "    <tr>\n",
       "      <th></th>\n",
       "      <th colspan=\"15\" halign=\"left\">Game Info</th>\n",
       "    </tr>\n",
       "    <tr>\n",
       "      <th></th>\n",
       "      <th>G</th>\n",
       "      <th>Date</th>\n",
       "      <th>Time</th>\n",
       "      <th>Day</th>\n",
       "      <th>School</th>\n",
       "      <th>Location</th>\n",
       "      <th>Opponent</th>\n",
       "      <th>Conf</th>\n",
       "      <th>Outcome</th>\n",
       "      <th>Pts</th>\n",
       "      <th>Opp</th>\n",
       "      <th>W</th>\n",
       "      <th>L</th>\n",
       "      <th>Streak</th>\n",
       "      <th>Notes</th>\n",
       "    </tr>\n",
       "  </thead>\n",
       "  <tbody>\n",
       "    <tr>\n",
       "      <th>0</th>\n",
       "      <td>1</td>\n",
       "      <td>Sep 4, 2021</td>\n",
       "      <td>2:00 PM</td>\n",
       "      <td>Sat</td>\n",
       "      <td>Air Force</td>\n",
       "      <td>H</td>\n",
       "      <td>Lafayette</td>\n",
       "      <td>Non-Major</td>\n",
       "      <td>W</td>\n",
       "      <td>35</td>\n",
       "      <td>14</td>\n",
       "      <td>1</td>\n",
       "      <td>0</td>\n",
       "      <td>W 1</td>\n",
       "      <td>NaN</td>\n",
       "    </tr>\n",
       "    <tr>\n",
       "      <th>1</th>\n",
       "      <td>2</td>\n",
       "      <td>Sep 11, 2021</td>\n",
       "      <td>3:30 PM</td>\n",
       "      <td>Sat</td>\n",
       "      <td>Air Force</td>\n",
       "      <td>@</td>\n",
       "      <td>Navy</td>\n",
       "      <td>American</td>\n",
       "      <td>W</td>\n",
       "      <td>23</td>\n",
       "      <td>3</td>\n",
       "      <td>2</td>\n",
       "      <td>0</td>\n",
       "      <td>W 2</td>\n",
       "      <td>NaN</td>\n",
       "    </tr>\n",
       "    <tr>\n",
       "      <th>2</th>\n",
       "      <td>3</td>\n",
       "      <td>Sep 18, 2021</td>\n",
       "      <td>7:30 PM</td>\n",
       "      <td>Sat</td>\n",
       "      <td>Air Force</td>\n",
       "      <td>H</td>\n",
       "      <td>Utah State</td>\n",
       "      <td>MWC</td>\n",
       "      <td>L</td>\n",
       "      <td>45</td>\n",
       "      <td>49</td>\n",
       "      <td>2</td>\n",
       "      <td>1</td>\n",
       "      <td>L 1</td>\n",
       "      <td>NaN</td>\n",
       "    </tr>\n",
       "    <tr>\n",
       "      <th>3</th>\n",
       "      <td>4</td>\n",
       "      <td>Sep 25, 2021</td>\n",
       "      <td>8:00 PM</td>\n",
       "      <td>Sat</td>\n",
       "      <td>Air Force</td>\n",
       "      <td>H</td>\n",
       "      <td>Florida Atlantic</td>\n",
       "      <td>CUSA</td>\n",
       "      <td>W</td>\n",
       "      <td>31</td>\n",
       "      <td>7</td>\n",
       "      <td>3</td>\n",
       "      <td>1</td>\n",
       "      <td>W 1</td>\n",
       "      <td>NaN</td>\n",
       "    </tr>\n",
       "    <tr>\n",
       "      <th>4</th>\n",
       "      <td>5</td>\n",
       "      <td>Oct 2, 2021</td>\n",
       "      <td>6:30 PM</td>\n",
       "      <td>Sat</td>\n",
       "      <td>Air Force</td>\n",
       "      <td>@</td>\n",
       "      <td>New Mexico</td>\n",
       "      <td>MWC</td>\n",
       "      <td>W</td>\n",
       "      <td>38</td>\n",
       "      <td>10</td>\n",
       "      <td>4</td>\n",
       "      <td>1</td>\n",
       "      <td>W 2</td>\n",
       "      <td>NaN</td>\n",
       "    </tr>\n",
       "  </tbody>\n",
       "</table>\n",
       "</div>"
      ],
      "text/plain": [
       "  Game Info                                                                    \\\n",
       "          G          Date     Time  Day     School Location          Opponent   \n",
       "0         1   Sep 4, 2021  2:00 PM  Sat  Air Force        H         Lafayette   \n",
       "1         2  Sep 11, 2021  3:30 PM  Sat  Air Force        @              Navy   \n",
       "2         3  Sep 18, 2021  7:30 PM  Sat  Air Force        H        Utah State   \n",
       "3         4  Sep 25, 2021  8:00 PM  Sat  Air Force        H  Florida Atlantic   \n",
       "4         5   Oct 2, 2021  6:30 PM  Sat  Air Force        @        New Mexico   \n",
       "\n",
       "                                                 \n",
       "        Conf Outcome Pts Opp  W  L Streak Notes  \n",
       "0  Non-Major       W  35  14  1  0    W 1   NaN  \n",
       "1   American       W  23   3  2  0    W 2   NaN  \n",
       "2        MWC       L  45  49  2  1    L 1   NaN  \n",
       "3       CUSA       W  31   7  3  1    W 1   NaN  \n",
       "4        MWC       W  38  10  4  1    W 2   NaN  "
      ]
     },
     "execution_count": 18,
     "metadata": {},
     "output_type": "execute_result"
    }
   ],
   "source": [
    "games[0].rename(columns = {'Unnamed: 5':'Location'}, inplace = True)\n",
    "games[0].rename(columns = {'Unnamed: 8':'Outcome'}, inplace = True)\n",
    "games[0]['Location'] = games[0]['Location'].fillna('H')\n",
    "games[0] = pd.concat([games[0]], keys=['Game Info'], axis=1)\n",
    "games[0].head()"
   ]
  },
  {
   "cell_type": "code",
   "execution_count": 19,
   "id": "e61a4242-13e9-4199-8697-7f9201b11f6a",
   "metadata": {},
   "outputs": [],
   "source": [
    "gamelogs = [i + gamelog[0] for i in team_urls]"
   ]
  },
  {
   "cell_type": "code",
   "execution_count": 20,
   "id": "54fc740e-225f-4329-a082-6e202c2711b7",
   "metadata": {},
   "outputs": [
    {
     "data": {
      "text/plain": [
       "'https://sports-reference.com/cfb/schools/air-force/2021/gamelog/'"
      ]
     },
     "execution_count": 20,
     "metadata": {},
     "output_type": "execute_result"
    }
   ],
   "source": [
    "gamelogs[0]"
   ]
  },
  {
   "cell_type": "code",
   "execution_count": 21,
   "id": "7be5942a-8dd3-4b04-831c-7511262cd411",
   "metadata": {},
   "outputs": [],
   "source": [
    "data = requests.get(gamelogs[0]).text.replace('<!--', '').replace('-->', '')"
   ]
  },
  {
   "cell_type": "code",
   "execution_count": 22,
   "id": "52855ced-1f86-468a-b817-33a8997f1142",
   "metadata": {},
   "outputs": [
    {
     "name": "stderr",
     "output_type": "stream",
     "text": [
      "C:\\Users\\parke\\AppData\\Local\\Temp\\ipykernel_9112\\635328836.py:1: FutureWarning: Passing literal html to 'read_html' is deprecated and will be removed in a future version. To read from a literal string, wrap it in a 'StringIO' object.\n",
      "  offGameLog = pd.read_html(data, match=\"Offensive Game Log Table\")\n"
     ]
    }
   ],
   "source": [
    "offGameLog = pd.read_html(data, match=\"Offensive Game Log Table\")"
   ]
  },
  {
   "cell_type": "code",
   "execution_count": 23,
   "id": "afc54f27-4e06-4213-a89c-e114809d10ea",
   "metadata": {},
   "outputs": [
    {
     "name": "stderr",
     "output_type": "stream",
     "text": [
      "C:\\Users\\parke\\AppData\\Local\\Temp\\ipykernel_9112\\275867740.py:1: FutureWarning: Passing literal html to 'read_html' is deprecated and will be removed in a future version. To read from a literal string, wrap it in a 'StringIO' object.\n",
      "  defGameLog = pd.read_html(data, match=\"Defensive Game Log\")\n"
     ]
    }
   ],
   "source": [
    "defGameLog = pd.read_html(data, match=\"Defensive Game Log\")"
   ]
  },
  {
   "cell_type": "code",
   "execution_count": 24,
   "id": "adf1598c-ad8c-483e-84cf-958372c0e6fa",
   "metadata": {},
   "outputs": [],
   "source": [
    "columns_to_keep = [\"Passing\", \"Rushing\", \"Total Offense\", \"Turnovers\"]\n",
    "\n",
    "# Drop all other columns\n",
    "offGameLog[0] = offGameLog[0][columns_to_keep]"
   ]
  },
  {
   "cell_type": "code",
   "execution_count": 25,
   "id": "ed865bdf-de8d-4c1c-9843-17ab202967e6",
   "metadata": {},
   "outputs": [
    {
     "data": {
      "text/html": [
       "<div>\n",
       "<style scoped>\n",
       "    .dataframe tbody tr th:only-of-type {\n",
       "        vertical-align: middle;\n",
       "    }\n",
       "\n",
       "    .dataframe tbody tr th {\n",
       "        vertical-align: top;\n",
       "    }\n",
       "\n",
       "    .dataframe thead tr th {\n",
       "        text-align: left;\n",
       "    }\n",
       "</style>\n",
       "<table border=\"1\" class=\"dataframe\">\n",
       "  <thead>\n",
       "    <tr>\n",
       "      <th></th>\n",
       "      <th colspan=\"5\" halign=\"left\">Off Passing</th>\n",
       "      <th colspan=\"4\" halign=\"left\">Off Rushing</th>\n",
       "      <th colspan=\"3\" halign=\"left\">Off Total Offense</th>\n",
       "      <th colspan=\"3\" halign=\"left\">Off Turnovers</th>\n",
       "    </tr>\n",
       "    <tr>\n",
       "      <th></th>\n",
       "      <th>Cmp</th>\n",
       "      <th>Att</th>\n",
       "      <th>Pct</th>\n",
       "      <th>Yds</th>\n",
       "      <th>TD</th>\n",
       "      <th>Att</th>\n",
       "      <th>Yds</th>\n",
       "      <th>Avg</th>\n",
       "      <th>TD</th>\n",
       "      <th>Plays</th>\n",
       "      <th>Yds</th>\n",
       "      <th>Avg</th>\n",
       "      <th>Fum</th>\n",
       "      <th>Int</th>\n",
       "      <th>TO</th>\n",
       "    </tr>\n",
       "  </thead>\n",
       "  <tbody>\n",
       "    <tr>\n",
       "      <th>0</th>\n",
       "      <td>3</td>\n",
       "      <td>5</td>\n",
       "      <td>60.0</td>\n",
       "      <td>50</td>\n",
       "      <td>0</td>\n",
       "      <td>67</td>\n",
       "      <td>370</td>\n",
       "      <td>5.5</td>\n",
       "      <td>5</td>\n",
       "      <td>72</td>\n",
       "      <td>420</td>\n",
       "      <td>5.8</td>\n",
       "      <td>0</td>\n",
       "      <td>0</td>\n",
       "      <td>0</td>\n",
       "    </tr>\n",
       "    <tr>\n",
       "      <th>1</th>\n",
       "      <td>3</td>\n",
       "      <td>10</td>\n",
       "      <td>30.0</td>\n",
       "      <td>49</td>\n",
       "      <td>0</td>\n",
       "      <td>59</td>\n",
       "      <td>176</td>\n",
       "      <td>3.0</td>\n",
       "      <td>3</td>\n",
       "      <td>69</td>\n",
       "      <td>225</td>\n",
       "      <td>3.3</td>\n",
       "      <td>0</td>\n",
       "      <td>0</td>\n",
       "      <td>0</td>\n",
       "    </tr>\n",
       "    <tr>\n",
       "      <th>2</th>\n",
       "      <td>6</td>\n",
       "      <td>12</td>\n",
       "      <td>50.0</td>\n",
       "      <td>182</td>\n",
       "      <td>1</td>\n",
       "      <td>61</td>\n",
       "      <td>438</td>\n",
       "      <td>7.2</td>\n",
       "      <td>5</td>\n",
       "      <td>73</td>\n",
       "      <td>620</td>\n",
       "      <td>8.5</td>\n",
       "      <td>1</td>\n",
       "      <td>1</td>\n",
       "      <td>2</td>\n",
       "    </tr>\n",
       "    <tr>\n",
       "      <th>3</th>\n",
       "      <td>2</td>\n",
       "      <td>5</td>\n",
       "      <td>40.0</td>\n",
       "      <td>70</td>\n",
       "      <td>0</td>\n",
       "      <td>73</td>\n",
       "      <td>446</td>\n",
       "      <td>6.1</td>\n",
       "      <td>4</td>\n",
       "      <td>78</td>\n",
       "      <td>516</td>\n",
       "      <td>6.6</td>\n",
       "      <td>0</td>\n",
       "      <td>0</td>\n",
       "      <td>0</td>\n",
       "    </tr>\n",
       "    <tr>\n",
       "      <th>4</th>\n",
       "      <td>1</td>\n",
       "      <td>2</td>\n",
       "      <td>50.0</td>\n",
       "      <td>33</td>\n",
       "      <td>0</td>\n",
       "      <td>73</td>\n",
       "      <td>408</td>\n",
       "      <td>5.6</td>\n",
       "      <td>5</td>\n",
       "      <td>75</td>\n",
       "      <td>441</td>\n",
       "      <td>5.9</td>\n",
       "      <td>0</td>\n",
       "      <td>0</td>\n",
       "      <td>0</td>\n",
       "    </tr>\n",
       "  </tbody>\n",
       "</table>\n",
       "</div>"
      ],
      "text/plain": [
       "  Off Passing                   Off Rushing              Off Total Offense  \\\n",
       "          Cmp Att   Pct  Yds TD         Att  Yds  Avg TD             Plays   \n",
       "0           3   5  60.0   50  0          67  370  5.5  5                72   \n",
       "1           3  10  30.0   49  0          59  176  3.0  3                69   \n",
       "2           6  12  50.0  182  1          61  438  7.2  5                73   \n",
       "3           2   5  40.0   70  0          73  446  6.1  4                78   \n",
       "4           1   2  50.0   33  0          73  408  5.6  5                75   \n",
       "\n",
       "            Off Turnovers         \n",
       "   Yds  Avg           Fum Int TO  \n",
       "0  420  5.8             0   0  0  \n",
       "1  225  3.3             0   0  0  \n",
       "2  620  8.5             1   1  2  \n",
       "3  516  6.6             0   0  0  \n",
       "4  441  5.9             0   0  0  "
      ]
     },
     "execution_count": 25,
     "metadata": {},
     "output_type": "execute_result"
    }
   ],
   "source": [
    "new_columns = pd.MultiIndex.from_tuples([\n",
    "    ('Off Passing', 'Cmp'),\n",
    "    ('Off Passing', 'Att'),\n",
    "    ('Off Passing', 'Pct'),\n",
    "    ('Off Passing', 'Yds'),\n",
    "    ('Off Passing', 'TD'),\n",
    "    ('Off Rushing', 'Att'),\n",
    "    ('Off Rushing', 'Yds'),\n",
    "    ('Off Rushing', 'Avg'),\n",
    "    ('Off Rushing', 'TD'),\n",
    "    ('Off Total Offense', 'Plays'),\n",
    "    ('Off Total Offense', 'Yds'),\n",
    "    ('Off Total Offense', 'Avg'),\n",
    "    ('Off Turnovers', 'Fum'),\n",
    "    ('Off Turnovers', 'Int'),\n",
    "    ('Off Turnovers', 'TO')\n",
    "])\n",
    "\n",
    "# Assign the new column structure to the DataFrame\n",
    "offGameLog[0].columns = new_columns\n",
    "\n",
    "offGameLog[0].head()"
   ]
  },
  {
   "cell_type": "code",
   "execution_count": 26,
   "id": "c73b4f9f-762a-4efa-8a19-62bdb89ae2ae",
   "metadata": {},
   "outputs": [],
   "source": [
    "columns_to_keep = [\"Passing\", \"Rushing\", \"Total Offense\", \"Unnamed: 23_level_0\", \"Unnamed: 24_level_0\", \"Unnamed: 25_level_0\"]\n",
    "\n",
    "# Drop all other columns\n",
    "defGameLog[0] = defGameLog[0][columns_to_keep]"
   ]
  },
  {
   "cell_type": "code",
   "execution_count": 27,
   "id": "edde93d3-bdee-486c-8d38-db004161fd13",
   "metadata": {},
   "outputs": [],
   "source": [
    "new_columns = pd.MultiIndex.from_tuples([\n",
    "    ('Def Passing', 'Cmp'),\n",
    "    ('Def Passing', 'Att'),\n",
    "    ('Def Passing', 'Pct'),\n",
    "    ('Def Passing', 'Yds'),\n",
    "    ('Def Passing', 'TD'),\n",
    "    ('Def Rushing', 'Att'),\n",
    "    ('Def Rushing', 'Yds'),\n",
    "    ('Def Rushing', 'Avg'),\n",
    "    ('Def Rushing', 'TD'),\n",
    "    ('Def Total Offense', 'Plays'),\n",
    "    ('Def Total Offense', 'Yds'),\n",
    "    ('Def Total Offense', 'Avg'),\n",
    "    ('Def Turnovers', 'Fum'),\n",
    "    ('Def Turnovers', 'Int'),\n",
    "    ('Def Turnovers', 'TO')\n",
    "])\n",
    "\n",
    "# Assign the new column structure to the DataFrame\n",
    "defGameLog[0].columns = new_columns"
   ]
  },
  {
   "cell_type": "code",
   "execution_count": 28,
   "id": "ca4cea39-fb2f-46a1-bc6b-3621ad3e48ac",
   "metadata": {},
   "outputs": [
    {
     "data": {
      "text/html": [
       "<div>\n",
       "<style scoped>\n",
       "    .dataframe tbody tr th:only-of-type {\n",
       "        vertical-align: middle;\n",
       "    }\n",
       "\n",
       "    .dataframe tbody tr th {\n",
       "        vertical-align: top;\n",
       "    }\n",
       "\n",
       "    .dataframe thead tr th {\n",
       "        text-align: left;\n",
       "    }\n",
       "</style>\n",
       "<table border=\"1\" class=\"dataframe\">\n",
       "  <thead>\n",
       "    <tr>\n",
       "      <th></th>\n",
       "      <th colspan=\"5\" halign=\"left\">Def Passing</th>\n",
       "      <th colspan=\"4\" halign=\"left\">Def Rushing</th>\n",
       "      <th colspan=\"3\" halign=\"left\">Def Total Offense</th>\n",
       "      <th colspan=\"3\" halign=\"left\">Def Turnovers</th>\n",
       "    </tr>\n",
       "    <tr>\n",
       "      <th></th>\n",
       "      <th>Cmp</th>\n",
       "      <th>Att</th>\n",
       "      <th>Pct</th>\n",
       "      <th>Yds</th>\n",
       "      <th>TD</th>\n",
       "      <th>Att</th>\n",
       "      <th>Yds</th>\n",
       "      <th>Avg</th>\n",
       "      <th>TD</th>\n",
       "      <th>Plays</th>\n",
       "      <th>Yds</th>\n",
       "      <th>Avg</th>\n",
       "      <th>Fum</th>\n",
       "      <th>Int</th>\n",
       "      <th>TO</th>\n",
       "    </tr>\n",
       "  </thead>\n",
       "  <tbody>\n",
       "    <tr>\n",
       "      <th>0</th>\n",
       "      <td>18</td>\n",
       "      <td>29</td>\n",
       "      <td>62.1</td>\n",
       "      <td>243</td>\n",
       "      <td>1</td>\n",
       "      <td>23</td>\n",
       "      <td>44</td>\n",
       "      <td>1.9</td>\n",
       "      <td>1</td>\n",
       "      <td>52</td>\n",
       "      <td>287</td>\n",
       "      <td>5.5</td>\n",
       "      <td>0</td>\n",
       "      <td>1</td>\n",
       "      <td>1</td>\n",
       "    </tr>\n",
       "    <tr>\n",
       "      <th>1</th>\n",
       "      <td>3</td>\n",
       "      <td>10</td>\n",
       "      <td>30.0</td>\n",
       "      <td>32</td>\n",
       "      <td>0</td>\n",
       "      <td>34</td>\n",
       "      <td>36</td>\n",
       "      <td>1.1</td>\n",
       "      <td>0</td>\n",
       "      <td>44</td>\n",
       "      <td>68</td>\n",
       "      <td>1.5</td>\n",
       "      <td>1</td>\n",
       "      <td>0</td>\n",
       "      <td>1</td>\n",
       "    </tr>\n",
       "    <tr>\n",
       "      <th>2</th>\n",
       "      <td>31</td>\n",
       "      <td>50</td>\n",
       "      <td>62.0</td>\n",
       "      <td>448</td>\n",
       "      <td>5</td>\n",
       "      <td>39</td>\n",
       "      <td>180</td>\n",
       "      <td>4.6</td>\n",
       "      <td>2</td>\n",
       "      <td>89</td>\n",
       "      <td>628</td>\n",
       "      <td>7.1</td>\n",
       "      <td>0</td>\n",
       "      <td>1</td>\n",
       "      <td>1</td>\n",
       "    </tr>\n",
       "    <tr>\n",
       "      <th>3</th>\n",
       "      <td>11</td>\n",
       "      <td>33</td>\n",
       "      <td>33.3</td>\n",
       "      <td>78</td>\n",
       "      <td>0</td>\n",
       "      <td>20</td>\n",
       "      <td>141</td>\n",
       "      <td>7.1</td>\n",
       "      <td>1</td>\n",
       "      <td>53</td>\n",
       "      <td>219</td>\n",
       "      <td>4.1</td>\n",
       "      <td>0</td>\n",
       "      <td>1</td>\n",
       "      <td>1</td>\n",
       "    </tr>\n",
       "    <tr>\n",
       "      <th>4</th>\n",
       "      <td>14</td>\n",
       "      <td>23</td>\n",
       "      <td>60.9</td>\n",
       "      <td>179</td>\n",
       "      <td>1</td>\n",
       "      <td>20</td>\n",
       "      <td>47</td>\n",
       "      <td>2.4</td>\n",
       "      <td>0</td>\n",
       "      <td>43</td>\n",
       "      <td>226</td>\n",
       "      <td>5.3</td>\n",
       "      <td>2</td>\n",
       "      <td>1</td>\n",
       "      <td>3</td>\n",
       "    </tr>\n",
       "  </tbody>\n",
       "</table>\n",
       "</div>"
      ],
      "text/plain": [
       "  Def Passing                   Def Rushing              Def Total Offense  \\\n",
       "          Cmp Att   Pct  Yds TD         Att  Yds  Avg TD             Plays   \n",
       "0          18  29  62.1  243  1          23   44  1.9  1                52   \n",
       "1           3  10  30.0   32  0          34   36  1.1  0                44   \n",
       "2          31  50  62.0  448  5          39  180  4.6  2                89   \n",
       "3          11  33  33.3   78  0          20  141  7.1  1                53   \n",
       "4          14  23  60.9  179  1          20   47  2.4  0                43   \n",
       "\n",
       "            Def Turnovers         \n",
       "   Yds  Avg           Fum Int TO  \n",
       "0  287  5.5             0   1  1  \n",
       "1   68  1.5             1   0  1  \n",
       "2  628  7.1             0   1  1  \n",
       "3  219  4.1             0   1  1  \n",
       "4  226  5.3             2   1  3  "
      ]
     },
     "execution_count": 28,
     "metadata": {},
     "output_type": "execute_result"
    }
   ],
   "source": [
    "defGameLog[0].head()"
   ]
  },
  {
   "cell_type": "code",
   "execution_count": 29,
   "id": "a129c599-69f6-4ff8-b73c-e5cac3ffdd19",
   "metadata": {
    "scrolled": true
   },
   "outputs": [
    {
     "data": {
      "text/html": [
       "<div>\n",
       "<style scoped>\n",
       "    .dataframe tbody tr th:only-of-type {\n",
       "        vertical-align: middle;\n",
       "    }\n",
       "\n",
       "    .dataframe tbody tr th {\n",
       "        vertical-align: top;\n",
       "    }\n",
       "\n",
       "    .dataframe thead tr th {\n",
       "        text-align: left;\n",
       "    }\n",
       "</style>\n",
       "<table border=\"1\" class=\"dataframe\">\n",
       "  <thead>\n",
       "    <tr>\n",
       "      <th></th>\n",
       "      <th colspan=\"5\" halign=\"left\">Def Passing</th>\n",
       "      <th colspan=\"4\" halign=\"left\">Def Rushing</th>\n",
       "      <th>Def Total Offense</th>\n",
       "      <th>...</th>\n",
       "      <th colspan=\"10\" halign=\"left\">Game Info</th>\n",
       "    </tr>\n",
       "    <tr>\n",
       "      <th></th>\n",
       "      <th>Cmp</th>\n",
       "      <th>Att</th>\n",
       "      <th>Pct</th>\n",
       "      <th>Yds</th>\n",
       "      <th>TD</th>\n",
       "      <th>Att</th>\n",
       "      <th>Yds</th>\n",
       "      <th>Avg</th>\n",
       "      <th>TD</th>\n",
       "      <th>Plays</th>\n",
       "      <th>...</th>\n",
       "      <th>Location</th>\n",
       "      <th>Opponent</th>\n",
       "      <th>Conf</th>\n",
       "      <th>Outcome</th>\n",
       "      <th>Pts</th>\n",
       "      <th>Opp</th>\n",
       "      <th>W</th>\n",
       "      <th>L</th>\n",
       "      <th>Streak</th>\n",
       "      <th>Notes</th>\n",
       "    </tr>\n",
       "  </thead>\n",
       "  <tbody>\n",
       "    <tr>\n",
       "      <th>0</th>\n",
       "      <td>18</td>\n",
       "      <td>29</td>\n",
       "      <td>62.1</td>\n",
       "      <td>243</td>\n",
       "      <td>1</td>\n",
       "      <td>23</td>\n",
       "      <td>44</td>\n",
       "      <td>1.9</td>\n",
       "      <td>1</td>\n",
       "      <td>52</td>\n",
       "      <td>...</td>\n",
       "      <td>H</td>\n",
       "      <td>Lafayette</td>\n",
       "      <td>Non-Major</td>\n",
       "      <td>W</td>\n",
       "      <td>35</td>\n",
       "      <td>14</td>\n",
       "      <td>1</td>\n",
       "      <td>0</td>\n",
       "      <td>W 1</td>\n",
       "      <td>NaN</td>\n",
       "    </tr>\n",
       "    <tr>\n",
       "      <th>1</th>\n",
       "      <td>3</td>\n",
       "      <td>10</td>\n",
       "      <td>30.0</td>\n",
       "      <td>32</td>\n",
       "      <td>0</td>\n",
       "      <td>34</td>\n",
       "      <td>36</td>\n",
       "      <td>1.1</td>\n",
       "      <td>0</td>\n",
       "      <td>44</td>\n",
       "      <td>...</td>\n",
       "      <td>@</td>\n",
       "      <td>Navy</td>\n",
       "      <td>American</td>\n",
       "      <td>W</td>\n",
       "      <td>23</td>\n",
       "      <td>3</td>\n",
       "      <td>2</td>\n",
       "      <td>0</td>\n",
       "      <td>W 2</td>\n",
       "      <td>NaN</td>\n",
       "    </tr>\n",
       "    <tr>\n",
       "      <th>2</th>\n",
       "      <td>31</td>\n",
       "      <td>50</td>\n",
       "      <td>62.0</td>\n",
       "      <td>448</td>\n",
       "      <td>5</td>\n",
       "      <td>39</td>\n",
       "      <td>180</td>\n",
       "      <td>4.6</td>\n",
       "      <td>2</td>\n",
       "      <td>89</td>\n",
       "      <td>...</td>\n",
       "      <td>H</td>\n",
       "      <td>Utah State</td>\n",
       "      <td>MWC</td>\n",
       "      <td>L</td>\n",
       "      <td>45</td>\n",
       "      <td>49</td>\n",
       "      <td>2</td>\n",
       "      <td>1</td>\n",
       "      <td>L 1</td>\n",
       "      <td>NaN</td>\n",
       "    </tr>\n",
       "    <tr>\n",
       "      <th>3</th>\n",
       "      <td>11</td>\n",
       "      <td>33</td>\n",
       "      <td>33.3</td>\n",
       "      <td>78</td>\n",
       "      <td>0</td>\n",
       "      <td>20</td>\n",
       "      <td>141</td>\n",
       "      <td>7.1</td>\n",
       "      <td>1</td>\n",
       "      <td>53</td>\n",
       "      <td>...</td>\n",
       "      <td>H</td>\n",
       "      <td>Florida Atlantic</td>\n",
       "      <td>CUSA</td>\n",
       "      <td>W</td>\n",
       "      <td>31</td>\n",
       "      <td>7</td>\n",
       "      <td>3</td>\n",
       "      <td>1</td>\n",
       "      <td>W 1</td>\n",
       "      <td>NaN</td>\n",
       "    </tr>\n",
       "    <tr>\n",
       "      <th>4</th>\n",
       "      <td>14</td>\n",
       "      <td>23</td>\n",
       "      <td>60.9</td>\n",
       "      <td>179</td>\n",
       "      <td>1</td>\n",
       "      <td>20</td>\n",
       "      <td>47</td>\n",
       "      <td>2.4</td>\n",
       "      <td>0</td>\n",
       "      <td>43</td>\n",
       "      <td>...</td>\n",
       "      <td>@</td>\n",
       "      <td>New Mexico</td>\n",
       "      <td>MWC</td>\n",
       "      <td>W</td>\n",
       "      <td>38</td>\n",
       "      <td>10</td>\n",
       "      <td>4</td>\n",
       "      <td>1</td>\n",
       "      <td>W 2</td>\n",
       "      <td>NaN</td>\n",
       "    </tr>\n",
       "  </tbody>\n",
       "</table>\n",
       "<p>5 rows × 30 columns</p>\n",
       "</div>"
      ],
      "text/plain": [
       "  Def Passing                   Def Rushing              Def Total Offense  \\\n",
       "          Cmp Att   Pct  Yds TD         Att  Yds  Avg TD             Plays   \n",
       "0          18  29  62.1  243  1          23   44  1.9  1                52   \n",
       "1           3  10  30.0   32  0          34   36  1.1  0                44   \n",
       "2          31  50  62.0  448  5          39  180  4.6  2                89   \n",
       "3          11  33  33.3   78  0          20  141  7.1  1                53   \n",
       "4          14  23  60.9  179  1          20   47  2.4  0                43   \n",
       "\n",
       "   ... Game Info                                                            \\\n",
       "   ...  Location          Opponent       Conf Outcome Pts Opp  W  L Streak   \n",
       "0  ...         H         Lafayette  Non-Major       W  35  14  1  0    W 1   \n",
       "1  ...         @              Navy   American       W  23   3  2  0    W 2   \n",
       "2  ...         H        Utah State        MWC       L  45  49  2  1    L 1   \n",
       "3  ...         H  Florida Atlantic       CUSA       W  31   7  3  1    W 1   \n",
       "4  ...         @        New Mexico        MWC       W  38  10  4  1    W 2   \n",
       "\n",
       "         \n",
       "  Notes  \n",
       "0   NaN  \n",
       "1   NaN  \n",
       "2   NaN  \n",
       "3   NaN  \n",
       "4   NaN  \n",
       "\n",
       "[5 rows x 30 columns]"
      ]
     },
     "execution_count": 29,
     "metadata": {},
     "output_type": "execute_result"
    }
   ],
   "source": [
    "team_data = offGameLog[0].merge(games[0], left_index=True, right_index=True)\n",
    "team_data = defGameLog[0].merge(games[0], left_index=True, right_index=True)\n",
    "team_data.head()"
   ]
  },
  {
   "cell_type": "code",
   "execution_count": 30,
   "id": "80368395-33f3-4c91-9bc4-413541b75685",
   "metadata": {},
   "outputs": [],
   "source": [
    "years = list(range(2022,2020,-1))"
   ]
  },
  {
   "cell_type": "code",
   "execution_count": 31,
   "id": "3898e52f-9d9b-4c41-8a46-76b5fc2b736e",
   "metadata": {},
   "outputs": [
    {
     "ename": "SyntaxError",
     "evalue": "invalid syntax (886569297.py, line 1)",
     "output_type": "error",
     "traceback": [
      "\u001b[1;36m  Cell \u001b[1;32mIn[31], line 1\u001b[1;36m\u001b[0m\n\u001b[1;33m    all_games =\u001b[0m\n\u001b[1;37m                ^\u001b[0m\n\u001b[1;31mSyntaxError\u001b[0m\u001b[1;31m:\u001b[0m invalid syntax\n"
     ]
    }
   ],
   "source": [
    "all_games = "
   ]
  },
  {
   "cell_type": "code",
   "execution_count": 35,
   "id": "2947d04f-e0fc-406f-bc1a-ab361ed2201c",
   "metadata": {},
   "outputs": [
    {
     "ename": "SyntaxError",
     "evalue": "unmatched ')' (2482734351.py, line 11)",
     "output_type": "error",
     "traceback": [
      "\u001b[1;36m  Cell \u001b[1;32mIn[35], line 11\u001b[1;36m\u001b[0m\n\u001b[1;33m    data = requests.get(schedule_url))\u001b[0m\n\u001b[1;37m                                     ^\u001b[0m\n\u001b[1;31mSyntaxError\u001b[0m\u001b[1;31m:\u001b[0m unmatched ')'\n"
     ]
    }
   ],
   "source": [
    "import time\n",
    "for year in years:\n",
    "    data = requests.get(standings_url)\n",
    "    soup = BeautifulSoup(data.text)\n",
    "    \n",
    "    links = [l.get(\"href\") for l in standings_table.find_all('a')]\n",
    "    links = [l for l in links if 'schools' in l]\n",
    "    team_urls = [f\"https://sports-reference.com{l}\" for l in links]\n",
    "\n",
    "    for team_url in team_urls:\n",
    "        team_name = team_url.split(\"/\")[-1].replace(\"-\", \" \")\n",
    "        data = requests.get(schedule_url))\n",
    "        games = pd.read_html(data.text, match=\"Games\")\n",
    "\n",
    "\n",
    "\n",
    "        team_data[\"Season\"] = year\n",
    "        team_data[\"Team] = team_name\n",
    "        all_games.append(team_data)\n",
    "        time.sleep(1)"
   ]
  },
  {
   "cell_type": "code",
   "execution_count": 34,
   "id": "15c30a28-4369-4269-bcd2-99c5c3dd1de4",
   "metadata": {},
   "outputs": [
    {
     "ename": "NameError",
     "evalue": "name 'team_url' is not defined",
     "output_type": "error",
     "traceback": [
      "\u001b[1;31m---------------------------------------------------------------------------\u001b[0m",
      "\u001b[1;31mNameError\u001b[0m                                 Traceback (most recent call last)",
      "Cell \u001b[1;32mIn[34], line 1\u001b[0m\n\u001b[1;32m----> 1\u001b[0m \u001b[43mteam_url\u001b[49m\n",
      "\u001b[1;31mNameError\u001b[0m: name 'team_url' is not defined"
     ]
    }
   ],
   "source": [
    "team_url"
   ]
  },
  {
   "cell_type": "code",
   "execution_count": null,
   "id": "3367e2ec-5807-4b17-8787-384301edd5ba",
   "metadata": {},
   "outputs": [],
   "source": [
    "team_url.split(\"/\")[-2].replace(\"-\", \" \").capwords()"
   ]
  },
  {
   "cell_type": "code",
   "execution_count": null,
   "id": "0f5a9027-1cc4-4b14-9571-7992cbaa525a",
   "metadata": {},
   "outputs": [],
   "source": []
  }
 ],
 "metadata": {
  "kernelspec": {
   "display_name": "Python 3 (ipykernel)",
   "language": "python",
   "name": "python3"
  },
  "language_info": {
   "codemirror_mode": {
    "name": "ipython",
    "version": 3
   },
   "file_extension": ".py",
   "mimetype": "text/x-python",
   "name": "python",
   "nbconvert_exporter": "python",
   "pygments_lexer": "ipython3",
   "version": "3.11.6"
  }
 },
 "nbformat": 4,
 "nbformat_minor": 5
}
